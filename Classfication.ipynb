{
  "nbformat": 4,
  "nbformat_minor": 0,
  "metadata": {
    "colab": {
      "provenance": []
    },
    "kernelspec": {
      "name": "python3",
      "display_name": "Python 3"
    },
    "language_info": {
      "name": "python"
    }
  },
  "cells": [
    {
      "cell_type": "code",
      "execution_count": null,
      "metadata": {
        "id": "gE90bDwnQCES"
      },
      "outputs": [],
      "source": [
        "!apt-get install openjdk-8-jdk-headless\n",
        "!wget https://archive.apache.org/dist/spark/spark-3.2.1/spark-3.2.1-bin-hadoop2.7.tgz\n",
        "!tar xf spark-3.2.1-bin-hadoop2.7.tgz\n",
        "!pip install -q findspark\n",
        "import os\n",
        "os.environ[\"JAVA_HOME\"] = \"/usr/lib/jvm/java-8-openjdk-amd64\"\n",
        "os.environ[\"SPARK_HOME\"] = \"/content/spark-3.2.1-bin-hadoop2.7\"\n",
        "import findspark\n",
        "findspark.init()\n",
        "findspark.find()\n",
        "from pyspark.sql import SparkSession\n",
        "\n",
        "spark = SparkSession.builder\\\n",
        "        .master(\"local\")\\\n",
        "        .appName(\"Colab\")\\\n",
        "        .config('spark.ui.port', '4050')\\\n",
        "        .getOrCreate()"
      ]
    },
    {
      "cell_type": "code",
      "source": [
        "import pyspark.pandas as ps\n",
        "from pyspark.sql.functions import *\n",
        "import pandas as pd"
      ],
      "metadata": {
        "colab": {
          "base_uri": "https://localhost:8080/"
        },
        "id": "e_2VJAo-RLGD",
        "outputId": "89e06bca-4485-4e89-cb34-5f5ff2d43251"
      },
      "execution_count": null,
      "outputs": [
        {
          "output_type": "stream",
          "name": "stderr",
          "text": [
            "WARNING:root:'PYARROW_IGNORE_TIMEZONE' environment variable was not set. It is required to set this environment variable to '1' in both driver and executor sides if you use pyarrow>=2.0.0. pandas-on-Spark will set it for you but it does not work if there is a Spark context already launched.\n"
          ]
        }
      ]
    },
    {
      "cell_type": "code",
      "source": [
        "#Load all datasets into spark\n",
        "df_users = spark.read.csv(\"/content/users.csv\", header=True, inferSchema=True)\n",
        "df_userSession = spark.read.csv(\"/content/user-session.csv\", header=True, inferSchema=True)\n",
        "df_team = spark.read.csv(\"/content/team.csv\", header=True, inferSchema=True)\n",
        "df_teamAssignment = spark.read.csv(\"/content/team-assignments.csv\", header=True, inferSchema=True)\n",
        "df_levelEvents = spark.read.csv(\"/content/level-events.csv\", header=True, inferSchema=True)\n",
        "df_gameClicks = spark.read.csv(\"/content/game-clicks.csv\", header=True, inferSchema=True)\n",
        "df_buyClicks = spark.read.csv(\"/content/buy-clicks.csv\", header=True, inferSchema=True)\n",
        "df_adClicks = spark.read.csv(\"/content/ad-clicks.csv\", header=True, inferSchema=True)\n",
        "df_combined = spark.read.csv(\"/content/combined-data.csv\", header=True, inferSchema=True)"
      ],
      "metadata": {
        "id": "5FwSYVebQJWx"
      },
      "execution_count": null,
      "outputs": []
    },
    {
      "cell_type": "code",
      "source": [
        "#create age column\n",
        "df_users = df_users.withColumn(\"Age\",year(current_date())-year(df_users.dob))\n",
        "df_users.show(2)\n",
        "df_users.count()"
      ],
      "metadata": {
        "colab": {
          "base_uri": "https://localhost:8080/"
        },
        "id": "8G74Qk9NQ_4R",
        "outputId": "d4f57b6a-11e1-4aae-a49d-63a471012c6a"
      },
      "execution_count": null,
      "outputs": [
        {
          "output_type": "stream",
          "name": "stdout",
          "text": [
            "+-------------------+------+--------+--------+----------+-------+---+\n",
            "|          timestamp|userId|    nick| twitter|       dob|country|Age|\n",
            "+-------------------+------+--------+--------+----------+-------+---+\n",
            "|2012-06-19 14:53:41|   442|pcjIOBKW|@SZhyOHv|1994-07-20|     BA| 29|\n",
            "|2012-06-19 19:29:01|   949| vAOfUkf|  @nkkNo|1971-04-22|     HU| 52|\n",
            "+-------------------+------+--------+--------+----------+-------+---+\n",
            "only showing top 2 rows\n",
            "\n"
          ]
        },
        {
          "output_type": "execute_result",
          "data": {
            "text/plain": [
              "2393"
            ]
          },
          "metadata": {},
          "execution_count": 4
        }
      ]
    },
    {
      "cell_type": "code",
      "source": [
        "#drop duplicates from df_users\n",
        "df_users = df_users.dropDuplicates(['userId'])\n",
        "df_users.count()"
      ],
      "metadata": {
        "colab": {
          "base_uri": "https://localhost:8080/"
        },
        "id": "QmwKa-ovRh2j",
        "outputId": "22d81a47-4660-4a2d-ebb5-15c8fe22451c"
      },
      "execution_count": null,
      "outputs": [
        {
          "output_type": "execute_result",
          "data": {
            "text/plain": [
              "2393"
            ]
          },
          "metadata": {},
          "execution_count": 5
        }
      ]
    },
    {
      "cell_type": "code",
      "source": [
        "df_users.orderBy(col(\"userId\")).show(2)"
      ],
      "metadata": {
        "colab": {
          "base_uri": "https://localhost:8080/"
        },
        "id": "MOi3_hSjgefb",
        "outputId": "8cfb4f70-7ef0-4b8f-b0cd-7e874c3caedf"
      },
      "execution_count": null,
      "outputs": [
        {
          "output_type": "stream",
          "name": "stdout",
          "text": [
            "+-------------------+------+-----------+----------+----------+-------+---+\n",
            "|          timestamp|userId|       nick|   twitter|       dob|country|Age|\n",
            "+-------------------+------+-----------+----------+----------+-------+---+\n",
            "|2015-11-27 16:36:39|     0|  hAV9Ztqdv|@MnFe4LCVQ|1949-01-15|     UZ| 74|\n",
            "|2012-12-17 03:25:44|     1|SmMidAFgJzx|   @fFMbCs|1980-12-02|     KM| 43|\n",
            "+-------------------+------+-----------+----------+----------+-------+---+\n",
            "only showing top 2 rows\n",
            "\n"
          ]
        }
      ]
    },
    {
      "cell_type": "code",
      "source": [
        "#drop duplicates from df_team\n",
        "\n",
        "df_team.dropDuplicates(['teamId'])\n",
        "df_team.count()"
      ],
      "metadata": {
        "colab": {
          "base_uri": "https://localhost:8080/"
        },
        "id": "_OAs7m9NZT4j",
        "outputId": "b8bd4b44-06c6-4425-90d9-a7e89e2d5f6d"
      },
      "execution_count": null,
      "outputs": [
        {
          "output_type": "execute_result",
          "data": {
            "text/plain": [
              "109"
            ]
          },
          "metadata": {},
          "execution_count": 7
        }
      ]
    },
    {
      "cell_type": "code",
      "source": [
        "# join multiple dataframes into one\n",
        "Main_df = df_users.join(df_userSession.select('userId', 'teamId', 'platformType'), on='userId', how='left').join(df_team.select('teamId','strength'), on='teamId', how='left').join(df_gameClicks.groupBy(\"userId\").agg(sum(\"isHit\").alias(\"Hitcount\"), count(\"clickId\").alias(\"Gameclick_count\")), on='userId', how='left').join(df_adClicks.groupBy(\"userId\").agg(count(\"adId\").alias(\"adcount\")), on='userId', how='left').join(df_buyClicks.groupBy(\"userId\").agg(count(\"buyId\").alias(\"buy_count\"), sum(\"price\").alias(\"Total_amount\")),on='userId', how='left')\n",
        "Main_df.orderBy(col(\"userId\")).show(2)"
      ],
      "metadata": {
        "colab": {
          "base_uri": "https://localhost:8080/"
        },
        "id": "ASY1pRYvX3L6",
        "outputId": "f472a94c-fc1d-4e3d-8d41-d2d33b136ac7"
      },
      "execution_count": null,
      "outputs": [
        {
          "output_type": "stream",
          "name": "stdout",
          "text": [
            "+------+------+-------------------+---------+----------+----------+-------+---+------------+--------+--------+---------------+-------+---------+------------+\n",
            "|userId|teamId|          timestamp|     nick|   twitter|       dob|country|Age|platformType|strength|Hitcount|Gameclick_count|adcount|buy_count|Total_amount|\n",
            "+------+------+-------------------+---------+----------+----------+-------+---+------------+--------+--------+---------------+-------+---------+------------+\n",
            "|     0|   157|2015-11-27 16:36:39|hAV9Ztqdv|@MnFe4LCVQ|1949-01-15|     UZ| 74|      iphone|    null|     143|           1355|   null|     null|        null|\n",
            "|     0|   157|2015-11-27 16:36:39|hAV9Ztqdv|@MnFe4LCVQ|1949-01-15|     UZ| 74|      iphone|    null|     143|           1355|   null|     null|        null|\n",
            "+------+------+-------------------+---------+----------+----------+-------+---+------------+--------+--------+---------------+-------+---------+------------+\n",
            "only showing top 2 rows\n",
            "\n"
          ]
        }
      ]
    },
    {
      "cell_type": "code",
      "source": [
        "# fill null values with 0\n",
        "Main_df = Main_df.na.fill({\"teamId\": 0, \"platformType\": \"No platform\",\"strength\":0,\"Hitcount\":0,\"Gameclick_count\":0,\"adcount\":0,\"buy_count\":0,\"Total_amount\":0})\n",
        "Main_df.orderBy(col(\"userId\")).show(2)"
      ],
      "metadata": {
        "colab": {
          "base_uri": "https://localhost:8080/"
        },
        "id": "m99k6AlLaW6A",
        "outputId": "cd1526db-7be6-4c2c-8891-f6066d3a3036"
      },
      "execution_count": null,
      "outputs": [
        {
          "output_type": "stream",
          "name": "stdout",
          "text": [
            "+------+------+-------------------+---------+----------+----------+-------+---+------------+--------+--------+---------------+-------+---------+------------+\n",
            "|userId|teamId|          timestamp|     nick|   twitter|       dob|country|Age|platformType|strength|Hitcount|Gameclick_count|adcount|buy_count|Total_amount|\n",
            "+------+------+-------------------+---------+----------+----------+-------+---+------------+--------+--------+---------------+-------+---------+------------+\n",
            "|     0|   157|2015-11-27 16:36:39|hAV9Ztqdv|@MnFe4LCVQ|1949-01-15|     UZ| 74|      iphone|     0.0|     143|           1355|      0|        0|         0.0|\n",
            "|     0|   157|2015-11-27 16:36:39|hAV9Ztqdv|@MnFe4LCVQ|1949-01-15|     UZ| 74|      iphone|     0.0|     143|           1355|      0|        0|         0.0|\n",
            "+------+------+-------------------+---------+----------+----------+-------+---+------------+--------+--------+---------------+-------+---------+------------+\n",
            "only showing top 2 rows\n",
            "\n"
          ]
        }
      ]
    },
    {
      "cell_type": "code",
      "source": [
        "# drop columns which are not required\n",
        "Main_df = Main_df.withColumn(\"label\", (Main_df.Total_amount >= 1).cast(\"integer\"))\n",
        "Main_df = Main_df.drop(\"nick\",\"twitter\",\"timestamp\")\n",
        "Main_df.orderBy(col(\"userId\")).show(2)\n"
      ],
      "metadata": {
        "colab": {
          "base_uri": "https://localhost:8080/"
        },
        "id": "vzSe-5n4iLzZ",
        "outputId": "6dcc911d-37a3-4ec5-83bc-bb462e00901a"
      },
      "execution_count": null,
      "outputs": [
        {
          "output_type": "stream",
          "name": "stdout",
          "text": [
            "+------+------+----------+-------+---+------------+--------+--------+---------------+-------+---------+------------+-----+\n",
            "|userId|teamId|       dob|country|Age|platformType|strength|Hitcount|Gameclick_count|adcount|buy_count|Total_amount|label|\n",
            "+------+------+----------+-------+---+------------+--------+--------+---------------+-------+---------+------------+-----+\n",
            "|     0|   157|1949-01-15|     UZ| 74|      iphone|     0.0|     143|           1355|      0|        0|         0.0|    0|\n",
            "|     0|   157|1949-01-15|     UZ| 74|      iphone|     0.0|     143|           1355|      0|        0|         0.0|    0|\n",
            "+------+------+----------+-------+---+------------+--------+--------+---------------+-------+---------+------------+-----+\n",
            "only showing top 2 rows\n",
            "\n"
          ]
        }
      ]
    },
    {
      "cell_type": "code",
      "source": [
        "Main_df.count()"
      ],
      "metadata": {
        "colab": {
          "base_uri": "https://localhost:8080/"
        },
        "id": "-x61lN4Ki52f",
        "outputId": "132abaf8-32c0-4960-872b-5be2827143e8"
      },
      "execution_count": null,
      "outputs": [
        {
          "output_type": "execute_result",
          "data": {
            "text/plain": [
              "10550"
            ]
          },
          "metadata": {},
          "execution_count": 12
        }
      ]
    },
    {
      "cell_type": "code",
      "source": [
        "#drop duplicates in main dataframe\n",
        "Main_df = Main_df.dropDuplicates()\n",
        "Main_df.count()"
      ],
      "metadata": {
        "colab": {
          "base_uri": "https://localhost:8080/"
        },
        "id": "lqwjdysAjSKN",
        "outputId": "ad253d6a-40d5-4969-e802-dd4caf9b40f1"
      },
      "execution_count": null,
      "outputs": [
        {
          "output_type": "execute_result",
          "data": {
            "text/plain": [
              "2410"
            ]
          },
          "metadata": {},
          "execution_count": 11
        }
      ]
    },
    {
      "cell_type": "code",
      "source": [
        "Main_df.show(2)"
      ],
      "metadata": {
        "colab": {
          "base_uri": "https://localhost:8080/"
        },
        "id": "TH3VveJ6j7Km",
        "outputId": "807b2651-ab10-445d-d5a6-f547b898e2e2"
      },
      "execution_count": null,
      "outputs": [
        {
          "output_type": "stream",
          "name": "stdout",
          "text": [
            "+------+------+----------+-------+---+------------+--------------+--------+---------------+-------+---------+------------+-----+\n",
            "|userId|teamId|       dob|country|Age|platformType|      strength|Hitcount|Gameclick_count|adcount|buy_count|Total_amount|label|\n",
            "+------+------+----------+-------+---+------------+--------------+--------+---------------+-------+---------+------------+-----+\n",
            "|     0|   157|1949-01-15|     UZ| 74|      iphone|           0.0|     143|           1355|      0|        0|         0.0|    0|\n",
            "|     1|    99|1980-12-02|     KM| 43|     android|0.893053922676|      96|            716|     44|        9|        21.0|    1|\n",
            "+------+------+----------+-------+---+------------+--------------+--------+---------------+-------+---------+------------+-----+\n",
            "only showing top 2 rows\n",
            "\n"
          ]
        }
      ]
    },
    {
      "cell_type": "code",
      "source": [
        "from pyspark.ml.feature import StringIndexer\n",
        "from pyspark.ml import Pipeline\n",
        "\n",
        "# create a list of StringIndexer transformers, one for each categorical column\n",
        "indexers = [StringIndexer(inputCol=col, outputCol=col+\"_index\") for col in [\"country\", \"platformType\"]]\n",
        "\n",
        "# create a pipeline to fit and transform the data using the StringIndexer transformers\n",
        "pipeline = Pipeline(stages=indexers)\n",
        "Main_df = pipeline.fit(Main_df).transform(Main_df)\n",
        "\n",
        "# show the resulting dataframe\n",
        "Main_df.show(2)"
      ],
      "metadata": {
        "colab": {
          "base_uri": "https://localhost:8080/"
        },
        "id": "fqcrv-5tpjZT",
        "outputId": "f36b54e2-ff66-4b2c-fcec-2c0d6c273258"
      },
      "execution_count": null,
      "outputs": [
        {
          "output_type": "stream",
          "name": "stdout",
          "text": [
            "+------+------+----------+-------+---+------------+--------------+--------+---------------+-------+---------+------------+-----+-------------+------------------+\n",
            "|userId|teamId|       dob|country|Age|platformType|      strength|Hitcount|Gameclick_count|adcount|buy_count|Total_amount|label|country_index|platformType_index|\n",
            "+------+------+----------+-------+---+------------+--------------+--------+---------------+-------+---------+------------+-----+-------------+------------------+\n",
            "|     0|   157|1949-01-15|     UZ| 74|      iphone|           0.0|     143|           1355|      0|        0|         0.0|    0|        211.0|               1.0|\n",
            "|     1|    99|1980-12-02|     KM| 43|     android|0.893053922676|      96|            716|     44|        9|        21.0|    1|        110.0|               2.0|\n",
            "+------+------+----------+-------+---+------------+--------------+--------+---------------+-------+---------+------------+-----+-------------+------------------+\n",
            "only showing top 2 rows\n",
            "\n"
          ]
        }
      ]
    },
    {
      "cell_type": "code",
      "source": [
        "Main_df2=Main_df['Age','strength','Hitcount','Gameclick_count','adcount','buy_count','country_index','platformType_index','label']"
      ],
      "metadata": {
        "id": "i9K-6-7QrOeH"
      },
      "execution_count": null,
      "outputs": []
    },
    {
      "cell_type": "markdown",
      "source": [
        "**Naive Bayes classification**"
      ],
      "metadata": {
        "id": "1Z9clcgwymT8"
      }
    },
    {
      "cell_type": "code",
      "source": [
        "from pyspark.ml.feature import VectorAssembler\n",
        "# Create an assembler object\n",
        "assembler = VectorAssembler(inputCols=['Age','strength','Hitcount','Gameclick_count','adcount','buy_count','country_index','platformType_index'], outputCol='features')\n",
        "\n",
        "# Consolidate predictor columns\n",
        "df_naive = assembler.transform(Main_df2)"
      ],
      "metadata": {
        "id": "Vg1qel95kOrs"
      },
      "execution_count": null,
      "outputs": []
    },
    {
      "cell_type": "code",
      "source": [
        "df_naive.count()"
      ],
      "metadata": {
        "colab": {
          "base_uri": "https://localhost:8080/"
        },
        "id": "6Pp7O_qbGDFQ",
        "outputId": "c84dabcf-3ff8-42f1-bdff-13cb6eab980f"
      },
      "execution_count": null,
      "outputs": [
        {
          "output_type": "execute_result",
          "data": {
            "text/plain": [
              "2410"
            ]
          },
          "metadata": {},
          "execution_count": 32
        }
      ]
    },
    {
      "cell_type": "code",
      "source": [
        "df_naive.show(2)"
      ],
      "metadata": {
        "colab": {
          "base_uri": "https://localhost:8080/"
        },
        "id": "xrSC7PlrrDge",
        "outputId": "00ae6234-0947-41a6-caf5-02bea4928520"
      },
      "execution_count": null,
      "outputs": [
        {
          "output_type": "stream",
          "name": "stdout",
          "text": [
            "+---+--------------+--------+---------------+-------+---------+-------------+------------------+-----+--------------------+\n",
            "|Age|      strength|Hitcount|Gameclick_count|adcount|buy_count|country_index|platformType_index|label|            features|\n",
            "+---+--------------+--------+---------------+-------+---------+-------------+------------------+-----+--------------------+\n",
            "| 74|           0.0|     143|           1355|      0|        0|        211.0|               1.0|    0|[74.0,0.0,143.0,1...|\n",
            "| 43|0.893053922676|      96|            716|     44|        9|        110.0|               2.0|    1|[43.0,0.893053922...|\n",
            "+---+--------------+--------+---------------+-------+---------+-------------+------------------+-----+--------------------+\n",
            "only showing top 2 rows\n",
            "\n"
          ]
        }
      ]
    },
    {
      "cell_type": "code",
      "source": [
        "#split data into training and test\n",
        "split = df_naive.randomSplit([0.7,0.3], 2)    # seed=2\n",
        "train = split[0]\n",
        "test = split[1]\n",
        "\n"
      ],
      "metadata": {
        "id": "T4-yMQHBr6s0"
      },
      "execution_count": null,
      "outputs": []
    },
    {
      "cell_type": "code",
      "source": [
        "from pyspark.ml.classification import NaiveBayes\n",
        "# Apply the Naive bayes classifier\n",
        "NB = NaiveBayes(modelType=\"multinomial\")\n",
        "\n",
        "#Train the NB model\n",
        "nbmodel = NB.fit(train)\n",
        "\n",
        "#Predict the NB model with Train dataset\n",
        "predict = nbmodel.transform(test)\n",
        "predict.show(5)"
      ],
      "metadata": {
        "colab": {
          "base_uri": "https://localhost:8080/"
        },
        "id": "vN0Ig2CGoIdn",
        "outputId": "fb41db5f-5fae-4e23-b514-ae2a53dbf738"
      },
      "execution_count": null,
      "outputs": [
        {
          "output_type": "stream",
          "name": "stdout",
          "text": [
            "+---+--------------+--------+---------------+-------+---------+-------------+------------------+-----+--------------------+--------------------+--------------------+----------+\n",
            "|Age|      strength|Hitcount|Gameclick_count|adcount|buy_count|country_index|platformType_index|label|            features|       rawPrediction|         probability|prediction|\n",
            "+---+--------------+--------+---------------+-------+---------+-------------+------------------+-----+--------------------+--------------------+--------------------+----------+\n",
            "| 25|           0.0|       0|              0|      0|        0|         47.0|               0.0|    0|(8,[0,6],[25.0,47...|[-108.98519401044...|[1.0,1.5881358267...|       0.0|\n",
            "| 25|           0.0|       0|              0|      0|        0|        143.0|               0.0|    0|(8,[0,6],[25.0,14...|[-223.05772192203...|[1.0,1.3729549915...|       0.0|\n",
            "| 25|           0.0|      31|            287|     10|        1|         27.0|               4.0|    1|[25.0,0.0,31.0,28...|[-477.75087356967...|[1.50252435141950...|       1.0|\n",
            "| 25|           0.0|     194|           1664|     48|        5|         84.0|               1.0|    1|[25.0,0.0,194.0,1...|[-2242.0726820991...|           [0.0,1.0]|       1.0|\n",
            "| 25|0.484140400151|      92|            661|     49|        7|        113.0|               1.0|    1|[25.0,0.484140400...|[-1356.8991495782...|[3.25400729137953...|       1.0|\n",
            "+---+--------------+--------+---------------+-------+---------+-------------+------------------+-----+--------------------+--------------------+--------------------+----------+\n",
            "only showing top 5 rows\n",
            "\n"
          ]
        }
      ]
    },
    {
      "cell_type": "code",
      "source": [
        "# create a confusion matrix using the MulticlassMetrics class\n",
        "predict_and_label = predict.select(\"prediction\", \"label\").rdd.map(lambda x: (float(x[0]), float(x[1])))\n",
        "metrics = MulticlassMetrics(predict_and_label)\n",
        "confusion_matrix = metrics.confusionMatrix().toArray()\n",
        "print(\"Confusion matrix:\\n\", confusion_matrix)"
      ],
      "metadata": {
        "id": "kRhsFbgIhtfd"
      },
      "execution_count": null,
      "outputs": []
    },
    {
      "cell_type": "code",
      "source": [
        "# Extract the TP, TN, FP, and FN values from the confusion matrix\n",
        "tp = confusion_matrix[1,1]\n",
        "print(tp)\n",
        "tn = confusion_matrix[0,0]\n",
        "fp = confusion_matrix[0,1]\n",
        "fn = confusion_matrix[1,0]\n",
        "# Calculate precision, recall (TPR), specificity (TNR), and accuracy\n",
        "precision = tp / (tp + fp)\n",
        "recall = tp / (tp + fn)\n",
        "specificity = tn / (tn + fp)\n",
        "accuracy = (tp + tn) / (tp + tn + fp + fn)\n",
        "\n",
        "# Calculate F1 score\n",
        "f1_score = 2 * (precision * recall) / (precision + recall)\n",
        "\n",
        "# Print the results\n",
        "print(\"Precision:\", precision)\n",
        "print(\"Recall (TPR):\", recall)\n",
        "print(\"Specificity (TNR):\", specificity)\n",
        "print(\"Accuracy:\", accuracy)\n",
        "print(\"F1 Score:\", f1_score)"
      ],
      "metadata": {
        "colab": {
          "base_uri": "https://localhost:8080/"
        },
        "id": "89idsNcwdeZp",
        "outputId": "ced92dd4-9039-4fac-b4d6-51c5c895979b"
      },
      "execution_count": null,
      "outputs": [
        {
          "output_type": "stream",
          "name": "stdout",
          "text": [
            "125.0\n",
            "Precision: 0.5165289256198347\n",
            "Recall (TPR): 0.8223684210526315\n",
            "Specificity (TNR): 0.8016949152542373\n",
            "Accuracy: 0.8059299191374663\n",
            "F1 Score: 0.6345177664974619\n"
          ]
        }
      ]
    },
    {
      "cell_type": "code",
      "source": [
        "# Confusion matrix from the output\n",
        "import matplotlib.pyplot as plt\n",
        "import seaborn as sns\n",
        "sns.heatmap(confusion_matrix, annot=True, cmap=\"YlGnBu\", fmt='.0f')\n",
        "plt.title(\"Confusion Matrix for Naive Bayes Model\")\n",
        "plt.xlabel(\"Predicted Class\")\n",
        "plt.ylabel(\"True Class\")\n",
        "plt.show()"
      ],
      "metadata": {
        "colab": {
          "base_uri": "https://localhost:8080/",
          "height": 472
        },
        "id": "GPL1pjT_uvSt",
        "outputId": "ff11fa87-a75f-48db-c3f3-0edbbb21c682"
      },
      "execution_count": null,
      "outputs": [
        {
          "output_type": "display_data",
          "data": {
            "text/plain": [
              "<Figure size 640x480 with 2 Axes>"
            ],
            "image/png": "[encoded data removed]"
          },
          "metadata": {}
        }
      ]
    },
    {
      "cell_type": "markdown",
      "source": [
        "**SVM classfification**"
      ],
      "metadata": {
        "id": "nv8nDdEdy93w"
      }
    },
    {
      "cell_type": "code",
      "source": [
        "from pyspark.ml.classification import LinearSVC\n",
        "from pyspark.ml.evaluation import BinaryClassificationEvaluator\n",
        "from pyspark.ml.feature import VectorAssembler\n",
        "from pyspark.ml.linalg import Vectors\n",
        "from pyspark.sql.functions import col\n",
        "\n",
        "# create a LinearSVC model with the specified parameters\n",
        "svm = LinearSVC(maxIter=10, regParam=0.1)\n",
        "\n",
        "# fit the SVM model to the training data\n",
        "model2 = svm.fit(train)\n",
        "\n",
        "# make predictions on the testing data using the trained model\n",
        "predict2 = model2.transform(test)\n",
        "\n",
        "# evaluate the model using the binary classification evaluator\n",
        "evaluator = BinaryClassificationEvaluator(rawPredictionCol=\"rawPrediction\", labelCol=\"label\", metricName=\"areaUnderROC\")\n",
        "auc = evaluator.evaluate(predict2)\n",
        "\n",
        "# print the area under the ROC curve\n",
        "print(\"Area under ROC = {}\".format(auc))\n"
      ],
      "metadata": {
        "colab": {
          "base_uri": "https://localhost:8080/"
        },
        "id": "GsndgoPhxN_0",
        "outputId": "beedef42-aec1-4a9c-a36b-f02d48cbaec1"
      },
      "execution_count": null,
      "outputs": [
        {
          "output_type": "stream",
          "name": "stdout",
          "text": [
            "Area under ROC = 0.9994424620874219\n"
          ]
        }
      ]
    },
    {
      "cell_type": "code",
      "source": [
        "# create a confusion matrix using the MulticlassMetrics class\n",
        "predict_and_label = predict2.select(\"prediction\", \"label\").rdd.map(lambda x: (float(x[0]), float(x[1])))\n",
        "metrics = MulticlassMetrics(predict_and_label)\n",
        "confusion_matrix2 = metrics.confusionMatrix().toArray()\n",
        "print(\"Confusion matrix:\\n\", confusion_matrix2)\n"
      ],
      "metadata": {
        "colab": {
          "base_uri": "https://localhost:8080/"
        },
        "id": "DwPoZOMyzZiK",
        "outputId": "5f6c5c6b-49c7-46cf-fd39-11af0b9a83e2"
      },
      "execution_count": null,
      "outputs": [
        {
          "output_type": "stream",
          "name": "stderr",
          "text": [
            "/content/spark-3.2.1-bin-hadoop2.7/python/pyspark/sql/context.py:125: FutureWarning: Deprecated in 3.0.0. Use SparkSession.builder.getOrCreate() instead.\n",
            "  warnings.warn(\n"
          ]
        },
        {
          "output_type": "stream",
          "name": "stdout",
          "text": [
            "Confusion matrix:\n",
            " [[589.   1.]\n",
            " [ 25. 127.]]\n"
          ]
        }
      ]
    },
    {
      "cell_type": "code",
      "source": [
        "# Extract the TP, TN, FP, and FN values from the confusion matrix\n",
        "tp = confusion_matrix2[1,1]\n",
        "print(tp)\n",
        "tn = confusion_matrix2[0,0]\n",
        "fp = confusion_matrix2[0,1]\n",
        "fn = confusion_matrix2[1,0]\n",
        "# Calculate precision, recall (TPR), specificity (TNR), and accuracy\n",
        "precision = tp / (tp + fp)\n",
        "recall = tp / (tp + fn)\n",
        "specificity = tn / (tn + fp)\n",
        "accuracy = (tp + tn) / (tp + tn + fp + fn)\n",
        "\n",
        "# Calculate F1 score\n",
        "f1_score = 2 * (precision * recall) / (precision + recall)\n",
        "\n",
        "# Print the results\n",
        "print(\"Precision:\", precision)\n",
        "print(\"Recall (TPR):\", recall)\n",
        "print(\"Specificity (TNR):\", specificity)\n",
        "print(\"Accuracy:\", accuracy)\n",
        "print(\"F1 Score:\", f1_score)"
      ],
      "metadata": {
        "colab": {
          "base_uri": "https://localhost:8080/"
        },
        "id": "Sc4Xf1GZhkr3",
        "outputId": "cf913ca6-e76c-4a44-80d2-4b26aaaf6cd4"
      },
      "execution_count": null,
      "outputs": [
        {
          "output_type": "stream",
          "name": "stdout",
          "text": [
            "127.0\n",
            "Precision: 0.9921875\n",
            "Recall (TPR): 0.8355263157894737\n",
            "Specificity (TNR): 0.9983050847457627\n",
            "Accuracy: 0.9649595687331537\n",
            "F1 Score: 0.9071428571428571\n"
          ]
        }
      ]
    },
    {
      "cell_type": "code",
      "source": [
        "# Confusion matrix from the output\n",
        "\n",
        "import matplotlib.pyplot as plt\n",
        "import seaborn as sns\n",
        "sns.heatmap(confusion_matrix2, annot=True, cmap=\"YlGnBu\", fmt='.0f')\n",
        "plt.title(\"Confusion Matrix for SVM Model\")\n",
        "plt.xlabel(\"Predicted Class\")\n",
        "plt.ylabel(\"True Class\")\n",
        "plt.show()"
      ],
      "metadata": {
        "colab": {
          "base_uri": "https://localhost:8080/",
          "height": 472
        },
        "id": "ZmyaatrBzmnb",
        "outputId": "ccf85d98-a6db-4aeb-a35c-514ec3184aa5"
      },
      "execution_count": null,
      "outputs": [
        {
          "output_type": "display_data",
          "data": {
            "text/plain": [
              "<Figure size 640x480 with 2 Axes>"
            ],
            "image/png": "[encoded data removed]"
          },
          "metadata": {}
        }
      ]
    }
  ]
}